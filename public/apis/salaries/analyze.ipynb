{
 "cells": [
  {
   "cell_type": "markdown",
   "metadata": {},
   "source": [
    "# Salaries\n",
    "\n",
    "https://machinelearningmastery.com/stacking-ensemble-machine-learning-with-python/\n"
   ]
  },
  {
   "cell_type": "code",
   "execution_count": 3,
   "metadata": {},
   "outputs": [
    {
     "name": "stdout",
     "output_type": "stream",
     "text": [
      "Index(['Unnamed: 0', 'work_year', 'experience_level', 'employment_type',\n",
      "       'job_title', 'salary_currency', 'salary_in_usd', 'employee_residence',\n",
      "       'remote_ratio', 'company_location', 'company_size'],\n",
      "      dtype='object')\n"
     ]
    },
    {
     "name": "stderr",
     "output_type": "stream",
     "text": [
      "[nltk_data] Downloading package stopwords to\n",
      "[nltk_data]     /Users/shahafdan/nltk_data...\n",
      "[nltk_data]   Package stopwords is already up-to-date!\n"
     ]
    }
   ],
   "source": [
    "import pandas as pd\n",
    "import matplotlib.pyplot as plt\n",
    "import numpy as np\n",
    "from sklearn.model_selection import train_test_split\n",
    "from sklearn.neighbors import KNeighborsRegressor\n",
    "\n",
    "ds = pd.read_csv('ds_salaries.csv')\n",
    "ds = ds.drop(['salary'], axis = 1)\n",
    "# we don't have any nulls \n",
    "print(ds.columns)\n",
    "\n",
    "# NLP:\n",
    "import nltk\n",
    "from nltk.tokenize import word_tokenize\n",
    "from nltk.tokenize import RegexpTokenizer\n",
    "nltk.download('stopwords')\n",
    "from nltk.corpus import stopwords\n",
    "stop_words = set(stopwords.words('english'))\n",
    "tokenizer = RegexpTokenizer(r'\\w+')\n",
    "\n"
   ]
  },
  {
   "cell_type": "code",
   "execution_count": 4,
   "metadata": {},
   "outputs": [],
   "source": [
    "ds['job_title'] = [tokenizer.tokenize(x.lower()) for x in ds['job_title']]\n",
    "ds['job_title'] = ds['job_title'].apply(lambda x: [w for w in x if not w in stop_words])\n",
    "ds['job_title'] = [' '.join(x) for x in ds['job_title']]\n",
    "\n",
    "ds['salary_currency'] = pd.factorize(ds['salary_currency'])[0]\n",
    "ds['experience_level'] = pd.factorize(ds['experience_level'])[0]\n",
    "ds['employee_residence'] = pd.factorize(ds['employee_residence'])[0]\n",
    "ds['company_location'] = pd.factorize(ds['company_location'])[0]\n",
    "ds['company_size'] = pd.factorize(ds['company_size'])[0]\n",
    "ds['employment_type'] = pd.factorize(ds['employment_type'])[0]\n",
    "ds['remote_ratio'] = pd.factorize(ds['remote_ratio'])[0]"
   ]
  },
  {
   "cell_type": "code",
   "execution_count": 20,
   "metadata": {},
   "outputs": [
    {
     "ename": "ValueError",
     "evalue": "Expected 2D array, got 1D array instead:\narray=[125000.  88654. 144854. 152500.  38400.  65438.  99360. 150000. 180000.\n 153667. 147000. 140000. 135000. 160080. 170000.  53192.  19609. 211500.\n 105000.   8000.  13400.  90320. 170000.  86703.  40189. 130000.  45807.\n 450000.  79833.  67000. 130000.  61300. 132320. 102100.  72212.  47899.\n 154600.  50000.  80000. 123000.  66022.   5707.  32974. 140000. 100000.\n  69999. 100000. 130000. 160000. 380000.  45807. 184700. 162674. 250000.\n  60000. 150000.  76958. 276000. 160000. 150000.  54000. 200000. 230000.\n  98158.  99000.  81666.  88654. 209100.  65949. 173762. 200000.  91237.\n  18907. 180000.  99000.  65438.  90000. 100000. 160000.  10354. 104702.\n 220000.   4000. 135000.  62651.  96282.  25532. 115000.  80000. 123000.\n 205300.  48000.  45391.  50000. 240000.  93700.  35735. 135000.  56000.\n  60000. 210000.  38776. 146000. 209100.  87932. 130000. 220110.  70139.\n  98158. 325000.  21983.  46597. 161342. 136620.  50180. 159000. 177000.\n 118187.  20171.  93700. 115934.  64849. 144000. 120000.  39263. 108800.\n 196979.  60757.  70000.  12000.  98000. 235000.  90320.  49268. 118000.\n 150260.  33808. 114047. 117789.  99703. 167000. 126500. 152000. 220110.\n 192600.  76833.  29751.  22611. 165400.  90320.  78526.  72000.  15966.\n 155000.  90320. 155000.  41689. 105000.  45807. 100000.  20000. 115500.\n 215300.  70500. 164996.  52351. 416000.  42000. 200000.  66265.   6072.\n  71786. 250000. 423000.  46809. 106260. 174000.  75000.  78526.  96113.\n  70912. 170000. 110925.  68147. 190200. 160080.  55000. 157000.  28369.\n 242000. 174000.  75774. 189650. 128875.  75000. 167000.  62000.  87932.\n 235000. 140400. 105000. 200000. 120000.  58894. 100000. 165000. 135000.\n 150000. 175000. 180000. 135000. 128875. 103000.  80000.  28399. 123000.\n 105400. 138350. 113476.  58000.  82900.  16904.  52396.  84900. 168000.\n  93150. 135000. 112900.  10000.  87932. 106260.  54094. 405000. 165000.\n  62649. 220000. 141300.  90000. 100800. 113000. 124190. 216000. 110037.\n 210000.  12000.  82500.  21637. 101570. 450000. 189650. 120000.  59102.\n  90000.  80000.  50000.  61896.  37825. 180000.  36643.  80000.  65949.\n 120000. 260000. 213120. 145000. 151000.  87932. 160000.  56256. 224000.\n  54742. 140000.  40570. 160000. 158200. 145000. 140400. 115000.  60000.\n  52351.  37300. 140000. 170000. 200100. 100000. 241000. 103160.   5679.\n 160000. 104890. 105000.  54957.  52351. 150000.  78000. 200000. 116000.\n  76940. 130026. 120160.  63711.  71982.  24342. 324000. 185000. 200000.\n 225000.  60000.  65000. 132000.  79039. 225000. 210000.  18442.  95550.\n   9466. 170000.  94665. 140400. 106000. 115000.  65000.  78791.  24000.\n  43966. 210000. 112872. 150000.  62726. 105000.  28476. 110000.  50000.\n 130000. 125000.  39916.  74130. 100000. 170000. 150000.  63810. 135000.\n  87425. 116914. 205300.  89294.  91000. 103691.  20000. 137141.  20000.\n  81000.  58255. 214000.  79833.  25000. 100000. 200000. 112900.  69741.\n 192400. 117789.  93000.  90734. 150000. 200000. 140000. 102100.  43966.\n  75000.  87738. 180000. 144000. 100000.   5882.  90700.  82528.  70000.\n 130000. 185000. 130800.  58000.  40000. 188000.  68428.  60000. 111775.\n 110000.  61467. 100000.  33511.  85000.  16228.  31875. 208775.  51064.\n  63900. 120000.  93427. 220000.  21669.  50000.  20000. 192564.  69336.\n  45618.  85000. 119059.  45760.  35590. 147800.  69741.  28609.  45896.\n 243900. 150000.  90000. 100000.  37236. 129000.  65013. 195000.  85000.\n 154600. 185100.  51519. 124333. 260000. 116150.  79197.  12901.  46759.\n 120000.  49461. 125000. 136000.  76833. 109280. 156600.  80000.  87000.\n 165220. 164000.  85000.  80000.  52000. 210000. 230000. 115000. 165000.\n 170000. 175100.  74000.  91614. 150000. 120000. 183228. 205300. 600000.\n   6072.  78526.  31615. 230000.  58000.  21844. 132320.  49461.  75000.\n 167875. 126500. 100000.  95746. 164996. 110000.  18442. 112900.  24823.\n 144000. 200000.  43331.  42197. 187442.  72500.  91614.  36259.].\nReshape your data either using array.reshape(-1, 1) if your data has a single feature or array.reshape(1, -1) if it contains a single sample.",
     "output_type": "error",
     "traceback": [
      "\u001b[0;31m---------------------------------------------------------------------------\u001b[0m",
      "\u001b[0;31mValueError\u001b[0m                                Traceback (most recent call last)",
      "\u001b[0;32m<ipython-input-20-7b4afdb3bc27>\u001b[0m in \u001b[0;36m<module>\u001b[0;34m\u001b[0m\n\u001b[1;32m     33\u001b[0m \u001b[0msc_y\u001b[0m \u001b[0;34m=\u001b[0m \u001b[0mStandardScaler\u001b[0m\u001b[0;34m(\u001b[0m\u001b[0;34m)\u001b[0m\u001b[0;34m\u001b[0m\u001b[0;34m\u001b[0m\u001b[0m\n\u001b[1;32m     34\u001b[0m \u001b[0mX_svr\u001b[0m \u001b[0;34m=\u001b[0m \u001b[0msc_X\u001b[0m\u001b[0;34m.\u001b[0m\u001b[0mfit_transform\u001b[0m\u001b[0;34m(\u001b[0m\u001b[0mX_train\u001b[0m\u001b[0;34m)\u001b[0m\u001b[0;34m\u001b[0m\u001b[0;34m\u001b[0m\u001b[0m\n\u001b[0;32m---> 35\u001b[0;31m \u001b[0my_svr\u001b[0m \u001b[0;34m=\u001b[0m \u001b[0msc_y\u001b[0m\u001b[0;34m.\u001b[0m\u001b[0mfit_transform\u001b[0m\u001b[0;34m(\u001b[0m\u001b[0my_train\u001b[0m\u001b[0;34m.\u001b[0m\u001b[0mtranspose\u001b[0m\u001b[0;34m(\u001b[0m\u001b[0;34m)\u001b[0m\u001b[0;34m)\u001b[0m\u001b[0;34m\u001b[0m\u001b[0;34m\u001b[0m\u001b[0m\n\u001b[0m\u001b[1;32m     36\u001b[0m \u001b[0mmodel\u001b[0m \u001b[0;34m=\u001b[0m \u001b[0mSVR\u001b[0m\u001b[0;34m(\u001b[0m\u001b[0mkernel\u001b[0m \u001b[0;34m=\u001b[0m \u001b[0;34m'rbf'\u001b[0m\u001b[0;34m)\u001b[0m\u001b[0;34m\u001b[0m\u001b[0;34m\u001b[0m\u001b[0m\n\u001b[1;32m     37\u001b[0m \u001b[0mmodel\u001b[0m\u001b[0;34m.\u001b[0m\u001b[0mfit\u001b[0m\u001b[0;34m(\u001b[0m\u001b[0mX_train\u001b[0m\u001b[0;34m,\u001b[0m \u001b[0my_train\u001b[0m\u001b[0;34m)\u001b[0m\u001b[0;34m\u001b[0m\u001b[0;34m\u001b[0m\u001b[0m\n",
      "\u001b[0;32m/opt/homebrew/lib/python3.9/site-packages/sklearn/base.py\u001b[0m in \u001b[0;36mfit_transform\u001b[0;34m(self, X, y, **fit_params)\u001b[0m\n\u001b[1;32m    865\u001b[0m         \u001b[0;32mif\u001b[0m \u001b[0my\u001b[0m \u001b[0;32mis\u001b[0m \u001b[0;32mNone\u001b[0m\u001b[0;34m:\u001b[0m\u001b[0;34m\u001b[0m\u001b[0;34m\u001b[0m\u001b[0m\n\u001b[1;32m    866\u001b[0m             \u001b[0;31m# fit method of arity 1 (unsupervised transformation)\u001b[0m\u001b[0;34m\u001b[0m\u001b[0;34m\u001b[0m\u001b[0m\n\u001b[0;32m--> 867\u001b[0;31m             \u001b[0;32mreturn\u001b[0m \u001b[0mself\u001b[0m\u001b[0;34m.\u001b[0m\u001b[0mfit\u001b[0m\u001b[0;34m(\u001b[0m\u001b[0mX\u001b[0m\u001b[0;34m,\u001b[0m \u001b[0;34m**\u001b[0m\u001b[0mfit_params\u001b[0m\u001b[0;34m)\u001b[0m\u001b[0;34m.\u001b[0m\u001b[0mtransform\u001b[0m\u001b[0;34m(\u001b[0m\u001b[0mX\u001b[0m\u001b[0;34m)\u001b[0m\u001b[0;34m\u001b[0m\u001b[0;34m\u001b[0m\u001b[0m\n\u001b[0m\u001b[1;32m    868\u001b[0m         \u001b[0;32melse\u001b[0m\u001b[0;34m:\u001b[0m\u001b[0;34m\u001b[0m\u001b[0;34m\u001b[0m\u001b[0m\n\u001b[1;32m    869\u001b[0m             \u001b[0;31m# fit method of arity 2 (supervised transformation)\u001b[0m\u001b[0;34m\u001b[0m\u001b[0;34m\u001b[0m\u001b[0m\n",
      "\u001b[0;32m/opt/homebrew/lib/python3.9/site-packages/sklearn/preprocessing/_data.py\u001b[0m in \u001b[0;36mfit\u001b[0;34m(self, X, y, sample_weight)\u001b[0m\n\u001b[1;32m    807\u001b[0m         \u001b[0;31m# Reset internal state before fitting\u001b[0m\u001b[0;34m\u001b[0m\u001b[0;34m\u001b[0m\u001b[0m\n\u001b[1;32m    808\u001b[0m         \u001b[0mself\u001b[0m\u001b[0;34m.\u001b[0m\u001b[0m_reset\u001b[0m\u001b[0;34m(\u001b[0m\u001b[0;34m)\u001b[0m\u001b[0;34m\u001b[0m\u001b[0;34m\u001b[0m\u001b[0m\n\u001b[0;32m--> 809\u001b[0;31m         \u001b[0;32mreturn\u001b[0m \u001b[0mself\u001b[0m\u001b[0;34m.\u001b[0m\u001b[0mpartial_fit\u001b[0m\u001b[0;34m(\u001b[0m\u001b[0mX\u001b[0m\u001b[0;34m,\u001b[0m \u001b[0my\u001b[0m\u001b[0;34m,\u001b[0m \u001b[0msample_weight\u001b[0m\u001b[0;34m)\u001b[0m\u001b[0;34m\u001b[0m\u001b[0;34m\u001b[0m\u001b[0m\n\u001b[0m\u001b[1;32m    810\u001b[0m \u001b[0;34m\u001b[0m\u001b[0m\n\u001b[1;32m    811\u001b[0m     \u001b[0;32mdef\u001b[0m \u001b[0mpartial_fit\u001b[0m\u001b[0;34m(\u001b[0m\u001b[0mself\u001b[0m\u001b[0;34m,\u001b[0m \u001b[0mX\u001b[0m\u001b[0;34m,\u001b[0m \u001b[0my\u001b[0m\u001b[0;34m=\u001b[0m\u001b[0;32mNone\u001b[0m\u001b[0;34m,\u001b[0m \u001b[0msample_weight\u001b[0m\u001b[0;34m=\u001b[0m\u001b[0;32mNone\u001b[0m\u001b[0;34m)\u001b[0m\u001b[0;34m:\u001b[0m\u001b[0;34m\u001b[0m\u001b[0;34m\u001b[0m\u001b[0m\n",
      "\u001b[0;32m/opt/homebrew/lib/python3.9/site-packages/sklearn/preprocessing/_data.py\u001b[0m in \u001b[0;36mpartial_fit\u001b[0;34m(self, X, y, sample_weight)\u001b[0m\n\u001b[1;32m    842\u001b[0m         \"\"\"\n\u001b[1;32m    843\u001b[0m         \u001b[0mfirst_call\u001b[0m \u001b[0;34m=\u001b[0m \u001b[0;32mnot\u001b[0m \u001b[0mhasattr\u001b[0m\u001b[0;34m(\u001b[0m\u001b[0mself\u001b[0m\u001b[0;34m,\u001b[0m \u001b[0;34m\"n_samples_seen_\"\u001b[0m\u001b[0;34m)\u001b[0m\u001b[0;34m\u001b[0m\u001b[0;34m\u001b[0m\u001b[0m\n\u001b[0;32m--> 844\u001b[0;31m         X = self._validate_data(\n\u001b[0m\u001b[1;32m    845\u001b[0m             \u001b[0mX\u001b[0m\u001b[0;34m,\u001b[0m\u001b[0;34m\u001b[0m\u001b[0;34m\u001b[0m\u001b[0m\n\u001b[1;32m    846\u001b[0m             \u001b[0maccept_sparse\u001b[0m\u001b[0;34m=\u001b[0m\u001b[0;34m(\u001b[0m\u001b[0;34m\"csr\"\u001b[0m\u001b[0;34m,\u001b[0m \u001b[0;34m\"csc\"\u001b[0m\u001b[0;34m)\u001b[0m\u001b[0;34m,\u001b[0m\u001b[0;34m\u001b[0m\u001b[0;34m\u001b[0m\u001b[0m\n",
      "\u001b[0;32m/opt/homebrew/lib/python3.9/site-packages/sklearn/base.py\u001b[0m in \u001b[0;36m_validate_data\u001b[0;34m(self, X, y, reset, validate_separately, **check_params)\u001b[0m\n\u001b[1;32m    575\u001b[0m             \u001b[0;32mraise\u001b[0m \u001b[0mValueError\u001b[0m\u001b[0;34m(\u001b[0m\u001b[0;34m\"Validation should be done on X, y or both.\"\u001b[0m\u001b[0;34m)\u001b[0m\u001b[0;34m\u001b[0m\u001b[0;34m\u001b[0m\u001b[0m\n\u001b[1;32m    576\u001b[0m         \u001b[0;32melif\u001b[0m \u001b[0;32mnot\u001b[0m \u001b[0mno_val_X\u001b[0m \u001b[0;32mand\u001b[0m \u001b[0mno_val_y\u001b[0m\u001b[0;34m:\u001b[0m\u001b[0;34m\u001b[0m\u001b[0;34m\u001b[0m\u001b[0m\n\u001b[0;32m--> 577\u001b[0;31m             \u001b[0mX\u001b[0m \u001b[0;34m=\u001b[0m \u001b[0mcheck_array\u001b[0m\u001b[0;34m(\u001b[0m\u001b[0mX\u001b[0m\u001b[0;34m,\u001b[0m \u001b[0minput_name\u001b[0m\u001b[0;34m=\u001b[0m\u001b[0;34m\"X\"\u001b[0m\u001b[0;34m,\u001b[0m \u001b[0;34m**\u001b[0m\u001b[0mcheck_params\u001b[0m\u001b[0;34m)\u001b[0m\u001b[0;34m\u001b[0m\u001b[0;34m\u001b[0m\u001b[0m\n\u001b[0m\u001b[1;32m    578\u001b[0m             \u001b[0mout\u001b[0m \u001b[0;34m=\u001b[0m \u001b[0mX\u001b[0m\u001b[0;34m\u001b[0m\u001b[0;34m\u001b[0m\u001b[0m\n\u001b[1;32m    579\u001b[0m         \u001b[0;32melif\u001b[0m \u001b[0mno_val_X\u001b[0m \u001b[0;32mand\u001b[0m \u001b[0;32mnot\u001b[0m \u001b[0mno_val_y\u001b[0m\u001b[0;34m:\u001b[0m\u001b[0;34m\u001b[0m\u001b[0;34m\u001b[0m\u001b[0m\n",
      "\u001b[0;32m/opt/homebrew/lib/python3.9/site-packages/sklearn/utils/validation.py\u001b[0m in \u001b[0;36mcheck_array\u001b[0;34m(array, accept_sparse, accept_large_sparse, dtype, order, copy, force_all_finite, ensure_2d, allow_nd, ensure_min_samples, ensure_min_features, estimator, input_name)\u001b[0m\n\u001b[1;32m    877\u001b[0m             \u001b[0;31m# If input is 1D raise error\u001b[0m\u001b[0;34m\u001b[0m\u001b[0;34m\u001b[0m\u001b[0m\n\u001b[1;32m    878\u001b[0m             \u001b[0;32mif\u001b[0m \u001b[0marray\u001b[0m\u001b[0;34m.\u001b[0m\u001b[0mndim\u001b[0m \u001b[0;34m==\u001b[0m \u001b[0;36m1\u001b[0m\u001b[0;34m:\u001b[0m\u001b[0;34m\u001b[0m\u001b[0;34m\u001b[0m\u001b[0m\n\u001b[0;32m--> 879\u001b[0;31m                 raise ValueError(\n\u001b[0m\u001b[1;32m    880\u001b[0m                     \u001b[0;34m\"Expected 2D array, got 1D array instead:\\narray={}.\\n\"\u001b[0m\u001b[0;34m\u001b[0m\u001b[0;34m\u001b[0m\u001b[0m\n\u001b[1;32m    881\u001b[0m                     \u001b[0;34m\"Reshape your data either using array.reshape(-1, 1) if \"\u001b[0m\u001b[0;34m\u001b[0m\u001b[0;34m\u001b[0m\u001b[0m\n",
      "\u001b[0;31mValueError\u001b[0m: Expected 2D array, got 1D array instead:\narray=[125000.  88654. 144854. 152500.  38400.  65438.  99360. 150000. 180000.\n 153667. 147000. 140000. 135000. 160080. 170000.  53192.  19609. 211500.\n 105000.   8000.  13400.  90320. 170000.  86703.  40189. 130000.  45807.\n 450000.  79833.  67000. 130000.  61300. 132320. 102100.  72212.  47899.\n 154600.  50000.  80000. 123000.  66022.   5707.  32974. 140000. 100000.\n  69999. 100000. 130000. 160000. 380000.  45807. 184700. 162674. 250000.\n  60000. 150000.  76958. 276000. 160000. 150000.  54000. 200000. 230000.\n  98158.  99000.  81666.  88654. 209100.  65949. 173762. 200000.  91237.\n  18907. 180000.  99000.  65438.  90000. 100000. 160000.  10354. 104702.\n 220000.   4000. 135000.  62651.  96282.  25532. 115000.  80000. 123000.\n 205300.  48000.  45391.  50000. 240000.  93700.  35735. 135000.  56000.\n  60000. 210000.  38776. 146000. 209100.  87932. 130000. 220110.  70139.\n  98158. 325000.  21983.  46597. 161342. 136620.  50180. 159000. 177000.\n 118187.  20171.  93700. 115934.  64849. 144000. 120000.  39263. 108800.\n 196979.  60757.  70000.  12000.  98000. 235000.  90320.  49268. 118000.\n 150260.  33808. 114047. 117789.  99703. 167000. 126500. 152000. 220110.\n 192600.  76833.  29751.  22611. 165400.  90320.  78526.  72000.  15966.\n 155000.  90320. 155000.  41689. 105000.  45807. 100000.  20000. 115500.\n 215300.  70500. 164996.  52351. 416000.  42000. 200000.  66265.   6072.\n  71786. 250000. 423000.  46809. 106260. 174000.  75000.  78526.  96113.\n  70912. 170000. 110925.  68147. 190200. 160080.  55000. 157000.  28369.\n 242000. 174000.  75774. 189650. 128875.  75000. 167000.  62000.  87932.\n 235000. 140400. 105000. 200000. 120000.  58894. 100000. 165000. 135000.\n 150000. 175000. 180000. 135000. 128875. 103000.  80000.  28399. 123000.\n 105400. 138350. 113476.  58000.  82900.  16904.  52396.  84900. 168000.\n  93150. 135000. 112900.  10000.  87932. 106260.  54094. 405000. 165000.\n  62649. 220000. 141300.  90000. 100800. 113000. 124190. 216000. 110037.\n 210000.  12000.  82500.  21637. 101570. 450000. 189650. 120000.  59102.\n  90000.  80000.  50000.  61896.  37825. 180000.  36643.  80000.  65949.\n 120000. 260000. 213120. 145000. 151000.  87932. 160000.  56256. 224000.\n  54742. 140000.  40570. 160000. 158200. 145000. 140400. 115000.  60000.\n  52351.  37300. 140000. 170000. 200100. 100000. 241000. 103160.   5679.\n 160000. 104890. 105000.  54957.  52351. 150000.  78000. 200000. 116000.\n  76940. 130026. 120160.  63711.  71982.  24342. 324000. 185000. 200000.\n 225000.  60000.  65000. 132000.  79039. 225000. 210000.  18442.  95550.\n   9466. 170000.  94665. 140400. 106000. 115000.  65000.  78791.  24000.\n  43966. 210000. 112872. 150000.  62726. 105000.  28476. 110000.  50000.\n 130000. 125000.  39916.  74130. 100000. 170000. 150000.  63810. 135000.\n  87425. 116914. 205300.  89294.  91000. 103691.  20000. 137141.  20000.\n  81000.  58255. 214000.  79833.  25000. 100000. 200000. 112900.  69741.\n 192400. 117789.  93000.  90734. 150000. 200000. 140000. 102100.  43966.\n  75000.  87738. 180000. 144000. 100000.   5882.  90700.  82528.  70000.\n 130000. 185000. 130800.  58000.  40000. 188000.  68428.  60000. 111775.\n 110000.  61467. 100000.  33511.  85000.  16228.  31875. 208775.  51064.\n  63900. 120000.  93427. 220000.  21669.  50000.  20000. 192564.  69336.\n  45618.  85000. 119059.  45760.  35590. 147800.  69741.  28609.  45896.\n 243900. 150000.  90000. 100000.  37236. 129000.  65013. 195000.  85000.\n 154600. 185100.  51519. 124333. 260000. 116150.  79197.  12901.  46759.\n 120000.  49461. 125000. 136000.  76833. 109280. 156600.  80000.  87000.\n 165220. 164000.  85000.  80000.  52000. 210000. 230000. 115000. 165000.\n 170000. 175100.  74000.  91614. 150000. 120000. 183228. 205300. 600000.\n   6072.  78526.  31615. 230000.  58000.  21844. 132320.  49461.  75000.\n 167875. 126500. 100000.  95746. 164996. 110000.  18442. 112900.  24823.\n 144000. 200000.  43331.  42197. 187442.  72500.  91614.  36259.].\nReshape your data either using array.reshape(-1, 1) if your data has a single feature or array.reshape(1, -1) if it contains a single sample."
     ]
    }
   ],
   "source": [
    "from sklearn.pipeline import Pipeline\n",
    "from sklearn.compose import ColumnTransformer\n",
    "from sklearn.linear_model import LinearRegression\n",
    "from sklearn.ensemble import RandomForestRegressor\n",
    "from sklearn.neighbors import KNeighborsRegressor\n",
    "from sklearn.feature_extraction.text import TfidfVectorizer\n",
    "from sklearn.svm import SVR\n",
    "from sklearn.preprocessing import StandardScaler\n",
    "\n",
    "\n",
    "# Set X and y\n",
    "X = ds[['salary_currency', 'experience_level', 'employee_residence', 'company_size', 'company_location', 'employment_type', 'remote_ratio']]\n",
    "y = ds['salary_in_usd']\n",
    "\n",
    "X_train, X_test, y_train, y_test = train_test_split(X, y, test_size = 0.2, random_state = 42)\n",
    "model = RandomForestRegressor()\n",
    "model.fit(X_train, y_train)\n",
    "rf_predictions = model.predict(X_test)\n",
    "rf_score = model.score(X_test, y_test)\n",
    "\n",
    "model = LinearRegression()\n",
    "model.fit(X_train, y_train)\n",
    "linreg_predictions = model.predict(X_test)\n",
    "linreg_score = model.score(X_test, y_test)\n",
    "\n",
    "model = KNeighborsRegressor()\n",
    "model.fit(X_train, y_train)\n",
    "knn_pred = model.predict(X_test)\n",
    "knn_score = model.score(X_test, y_test)\n",
    "\n",
    "pred_test = pd.DataFrame({\n",
    "    'test': np.array(y_test), \n",
    "    'rf_predictions': list(np.array(rf_predictions)), \n",
    "    'knn_predictions': list(np.array(knn_pred)), \n",
    "    'svr_predictions': list(np.array(svr_pred)), \n",
    "    'linreg_predictions': list(np.array(linreg_predictions))}, \n",
    "    columns=['test', 'rf_predictions', 'knn_predictions', 'svr_predictions', 'linreg_predictions'])\n",
    "pred_test = pred_test.sort_values(by = 'test')\n",
    "ind = range(len(pred_test))\n",
    "\n",
    "plt.figure(figsize = (25, 6))\n",
    "plt.title(model.score(X_test, y_test))\n",
    "plt.plot(ind, pred_test['test'], linewidth = 2, color = 'orange')\n",
    "plt.plot(ind, pred_test['rf_predictions'], linewidth = 2, color = 'blue', label = \"Random Forest: \" + str(round(100 * rf_score, 2)) + \"% accuracy\")\n",
    "plt.plot(ind, pred_test['linreg_predictions'], linewidth = 2, color = 'green', label = \"Linear Regression: \" + str(round(100 * linreg_score, 2)) + \"% accuracy\")\n",
    "plt.plot(ind, pred_test['knn_predictions'], linewidth = 2, color = 'red', label = \"KNN Regressor: \" + str(round(100 * knn_score, 2)) + \"% accuracy\")\n",
    "plt.plot(ind, pred_test['svr_predictions'], linewidth = 2, color = 'pink', label = \"SVR Regressor: \" + str(round(100 * svr_score, 2)) + \"% accuracy\")\n",
    "plt.legend()\n",
    "plt.show()\n",
    "\n",
    "\n",
    "\n",
    "\n",
    "X = ds[['job_title', 'salary_currency', 'experience_level', 'employee_residence', 'company_size', 'company_location', 'employment_type', 'remote_ratio']]\n",
    "y = ds['salary_in_usd']\n",
    "X_train, X_test, y_train, y_test = train_test_split(X, y, test_size = 0.2, random_state = 42)\n",
    "\n",
    "vectorizer = TfidfVectorizer()\n",
    "column_transformer = ColumnTransformer([('tfidf', vectorizer, 'job_title')], remainder = 'passthrough')\n",
    "tfidf = vectorizer.fit_transform(X_train)\n",
    "model = LinearRegression()\n",
    "pipe = Pipeline([('tfidf', column_transformer), ('classify', model)])\n",
    "pipe.fit(X_train, y_train)\n",
    "pipe.score(X_test, y_test)\n",
    "# print(X_train)\n",
    "# predictions = pipe.predict(X_test, y_test)\n",
    "\n",
    "# pred_test = pd.DataFrame({'test': np.array(y_test), 'predictions': list(np.array(predictions))}, columns=['test', 'predictions'])\n",
    "# pred_test = pred_test.sort_values(by = 'test')\n",
    "# ind = range(len(pred_test))\n",
    "\n",
    "# plt.figure(figsize = (25, 15))\n",
    "# plt.plot(ind, pred_test['test'])\n",
    "# plt.plot(ind, pred_test['predictions'])\n",
    "# plt.show()"
   ]
  },
  {
   "cell_type": "code",
   "execution_count": null,
   "metadata": {},
   "outputs": [],
   "source": []
  }
 ],
 "metadata": {
  "kernelspec": {
   "display_name": "Python 3.9.13 64-bit",
   "language": "python",
   "name": "python3"
  },
  "language_info": {
   "codemirror_mode": {
    "name": "ipython",
    "version": 3
   },
   "file_extension": ".py",
   "mimetype": "text/x-python",
   "name": "python",
   "nbconvert_exporter": "python",
   "pygments_lexer": "ipython3",
   "version": "3.9.13"
  },
  "orig_nbformat": 4,
  "vscode": {
   "interpreter": {
    "hash": "b0fa6594d8f4cbf19f97940f81e996739fb7646882a419484c72d19e05852a7e"
   }
  }
 },
 "nbformat": 4,
 "nbformat_minor": 2
}
